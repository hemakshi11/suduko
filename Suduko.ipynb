{
 "cells": [
  {
   "cell_type": "code",
   "execution_count": 1,
   "id": "58c02ff5",
   "metadata": {},
   "outputs": [],
   "source": [
    "from pprint import pprint"
   ]
  },
  {
   "cell_type": "code",
   "execution_count": 2,
   "id": "6e4ea1ff",
   "metadata": {},
   "outputs": [],
   "source": [
    "def find_next_empty(puzzle):\n",
    "    \n",
    "    for r in range(9):\n",
    "        for c in range(9): \n",
    "            if puzzle[r][c] == -1:\n",
    "                return r, c\n",
    "\n",
    "    return None, None  "
   ]
  },
  {
   "cell_type": "code",
   "execution_count": 3,
   "id": "cf51260a",
   "metadata": {},
   "outputs": [],
   "source": [
    "def is_valid(puzzle, guess, row, col):\n",
    "\n",
    "    row_vals = puzzle[row]\n",
    "    if guess in row_vals:\n",
    "        return False \n",
    "    col_vals = [puzzle[i][col] for i in range(9)]\n",
    "    if guess in col_vals:\n",
    "        return False\n",
    "\n",
    "    \n",
    "    row_start = (row // 3) * 3 \n",
    "    col_start = (col // 3) * 3\n",
    "\n",
    "    for r in range(row_start, row_start + 3):\n",
    "        for c in range(col_start, col_start + 3):\n",
    "            if puzzle[r][c] == guess:\n",
    "                return False\n",
    "\n",
    "    return True"
   ]
  },
  {
   "cell_type": "code",
   "execution_count": 4,
   "id": "7c748dbd",
   "metadata": {},
   "outputs": [],
   "source": [
    "def solve_sudoku(puzzle):\n",
    "\n",
    "    row, col = find_next_empty(puzzle)\n",
    "\n",
    "    if row is None: \n",
    "        return True \n",
    "    \n",
    "    for guess in range(1, 10): \n",
    "        if is_valid(puzzle, guess, row, col):\n",
    "            puzzle[row][col] = guess \n",
    "            if solve_sudoku(puzzle):\n",
    "                return True\n",
    "        \n",
    "        puzzle[row][col] = -1\n",
    "        \n",
    "    return False"
   ]
  },
  {
   "cell_type": "code",
   "execution_count": 5,
   "id": "3016b7fb",
   "metadata": {},
   "outputs": [
    {
     "name": "stdout",
     "output_type": "stream",
     "text": [
      "True\n",
      "[[3, 9, 1, 8, 5, 6, 4, 2, 7],\n",
      " [8, 6, 7, 2, 3, 4, 9, 1, 5],\n",
      " [4, 2, 5, 7, 1, 9, 6, 8, 3],\n",
      " [7, 5, 4, 9, 6, 8, 1, 3, 2],\n",
      " [2, 1, 6, 4, 7, 3, 5, 9, 8],\n",
      " [9, 3, 8, 5, 2, 1, 7, 6, 4],\n",
      " [5, 4, 3, 6, 9, 2, 8, 7, 1],\n",
      " [6, 7, 2, 1, 8, 5, 3, 4, 9],\n",
      " [1, 8, 9, 3, 4, 7, 2, 5, 6]]\n"
     ]
    }
   ],
   "source": [
    "if __name__ == '__main__':\n",
    "    example_board = [\n",
    "        [3, 9, -1,   -1, 5, -1,   -1, -1, -1],\n",
    "        [-1, -1, -1,   2, -1, -1,   -1, -1, 5],\n",
    "        [-1, -1, -1,   7, 1, 9,   -1, 8, -1],\n",
    "\n",
    "        [-1, 5, -1,   -1, 6, 8,   -1, -1, -1],\n",
    "        [2, -1, 6,   -1, -1, 3,   -1, -1, -1],\n",
    "        [-1, -1, -1,   -1, -1, -1,   -1, -1, 4],\n",
    "\n",
    "        [5, -1, -1,   -1, -1, -1,   -1, -1, -1],\n",
    "        [6, 7, -1,   1, -1, 5,   -1, 4, -1],\n",
    "        [1, -1, 9,   -1, -1, -1,   2, -1, -1]\n",
    "    ]\n",
    "    print(solve_sudoku(example_board))\n",
    "    pprint(example_board)"
   ]
  },
  {
   "cell_type": "code",
   "execution_count": null,
   "id": "26d45e3a",
   "metadata": {},
   "outputs": [],
   "source": []
  }
 ],
 "metadata": {
  "kernelspec": {
   "display_name": "Python 3 (ipykernel)",
   "language": "python",
   "name": "python3"
  },
  "language_info": {
   "codemirror_mode": {
    "name": "ipython",
    "version": 3
   },
   "file_extension": ".py",
   "mimetype": "text/x-python",
   "name": "python",
   "nbconvert_exporter": "python",
   "pygments_lexer": "ipython3",
   "version": "3.10.7"
  }
 },
 "nbformat": 4,
 "nbformat_minor": 5
}
